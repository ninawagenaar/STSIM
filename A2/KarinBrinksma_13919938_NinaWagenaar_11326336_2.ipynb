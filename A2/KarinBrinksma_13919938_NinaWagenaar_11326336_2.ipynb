{
 "cells": [
  {
   "cell_type": "code",
   "execution_count": 4,
   "id": "6887e9c9",
   "metadata": {},
   "outputs": [],
   "source": [
    "import numpy as np\n",
    "import simpy as sp\n",
    "import matplotlib.pyplot as plt\n"
   ]
  },
  {
   "cell_type": "code",
   "execution_count": null,
   "id": "4d21f2f3",
   "metadata": {},
   "outputs": [],
   "source": [
    "'''\n",
    "lambda = arrival rate into the system\n",
    "mu = capacity of each server\n",
    "n = number of servers\n",
    "rho = system load, \n",
    "    single server: lambda/mu\n",
    "    n servers: lambda/(n*mu)\n",
    "'''\n"
   ]
  },
  {
   "cell_type": "code",
   "execution_count": null,
   "id": "19ce54bd",
   "metadata": {},
   "outputs": [],
   "source": []
  }
 ],
 "metadata": {
  "kernelspec": {
   "display_name": "Python 3",
   "language": "python",
   "name": "python3"
  },
  "language_info": {
   "codemirror_mode": {
    "name": "ipython",
    "version": 3
   },
   "file_extension": ".py",
   "mimetype": "text/x-python",
   "name": "python",
   "nbconvert_exporter": "python",
   "pygments_lexer": "ipython3",
   "version": "3.8.8"
  }
 },
 "nbformat": 4,
 "nbformat_minor": 5
}
