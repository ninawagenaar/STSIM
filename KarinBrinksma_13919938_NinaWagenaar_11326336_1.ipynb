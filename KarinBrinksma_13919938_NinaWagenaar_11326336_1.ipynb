{
 "cells": [
  {
   "cell_type": "code",
   "execution_count": 3,
   "id": "46f2f8b2",
   "metadata": {},
   "outputs": [],
   "source": [
    "import numpy as np\n",
    "import numpy.random as random\n",
    "import matplotlib.pyplot as plt\n",
    "from PIL import Image, ImageDraw\n",
    "\n"
   ]
  },
  {
   "cell_type": "code",
   "execution_count": 4,
   "id": "a2163eab",
   "metadata": {},
   "outputs": [],
   "source": [
    "# Returns the amount of interations needed to reach a modulus > 2 \n",
    "def mandelbrot(c, z, iteration, MaxIter):\n",
    "    # Define the basecase\n",
    "    if ((iteration < MaxIter) and (abs(z) <= 2)):\n",
    "        z = z*z + c\n",
    "        iteration += 1\n",
    "        return mandelbrot(c, z, iteration, MaxIter)\n",
    "    else:\n",
    "        return iteration"
   ]
  },
  {
   "cell_type": "code",
   "execution_count": 8,
   "id": "55562a26",
   "metadata": {},
   "outputs": [],
   "source": [
    "# # Image size\n",
    "# # Image size (pixels)\n",
    "# width = 400\n",
    "# height = 600\n",
    "\n",
    "# # Plot window\n",
    "# re_start = -2\n",
    "# re_end = 1\n",
    "# im_start = -2\n",
    "# im_end = 2\n",
    "\n",
    "# im = Image.new('HSV', (width, height), (0, 0, 0))\n",
    "# draw = ImageDraw.Draw(im)\n",
    "\n",
    "# MaxIter = 80\n",
    "\n",
    "# for x in range(0, width):\n",
    "#     for y in range(0, height):\n",
    "#         # Convert pixel coordinate to complex number\n",
    "#         c = complex(re_start + (x / width) * (re_end - re_start),\n",
    "#                     im_start + (y / height) * (im_end - im_start))\n",
    "#         # Compute the number of iterations\n",
    "#         m = mandelbrot(c, 0, 0, MaxIter)\n",
    "#         # The color depends on the number of iterations\n",
    "#         hue = int(255 * m / MaxIter)\n",
    "#         saturation = 255\n",
    "#         value = 255 if m < MaxIter else 0\n",
    "#         # Plot the point\n",
    "#         draw.point([x, y], (hue, saturation, value))\n",
    "\n",
    "# im.show()"
   ]
  },
  {
   "cell_type": "code",
   "execution_count": 10,
   "id": "0843fd83",
   "metadata": {},
   "outputs": [
    {
     "data": {
      "text/plain": [
       "10"
      ]
     },
     "execution_count": 10,
     "metadata": {},
     "output_type": "execute_result"
    }
   ],
   "source": [
    "mandelbrot(-1, 0, 0, 10)"
   ]
  },
  {
   "cell_type": "code",
   "execution_count": 17,
   "id": "812c5aea",
   "metadata": {},
   "outputs": [],
   "source": [
    "grid_size = 100\n",
    "re_min = -2\n",
    "re_max = 2\n",
    "im_min = -2\n",
    "im_max = 2\n",
    "\n",
    "x_dist = re_max - re_min\n",
    "y_dist = im_max - im_min\n",
    "\n",
    "unit = np.empty((grid_size, grid_size))\n",
    "real = np.arange(re_min, re_max, x_dist/grid_size)\n",
    "imag = np.arange(re_min, re_max, y_dist/grid_size)\n",
    "\n",
    "for j in range(grid_size):\n",
    "    for i in range(grid_size):\n",
    "        unit[j,i] = mandelbrot(complex(real[i], imag[j]), 0, 0, 30)\n",
    "        "
   ]
  },
  {
   "cell_type": "code",
   "execution_count": 18,
   "id": "136c06aa",
   "metadata": {},
   "outputs": [
    {
     "data": {
      "text/plain": [
       "<matplotlib.image.AxesImage at 0x7fc21451a340>"
      ]
     },
     "execution_count": 18,
     "metadata": {},
     "output_type": "execute_result"
    },
    {
     "data": {
      "image/png": "[encoded data removed]",
      "text/plain": [
       "<Figure size 432x288 with 1 Axes>"
      ]
     },
     "metadata": {
      "needs_background": "light"
     },
     "output_type": "display_data"
    }
   ],
   "source": [
    "plt.imshow(unit)"
   ]
  },
  {
   "cell_type": "code",
   "execution_count": null,
   "id": "eaee6dc7",
   "metadata": {},
   "outputs": [],
   "source": []
  }
 ],
 "metadata": {
  "kernelspec": {
   "display_name": "Python 3 (ipykernel)",
   "language": "python",
   "name": "python3"
  },
  "language_info": {
   "codemirror_mode": {
    "name": "ipython",
    "version": 3
   },
   "file_extension": ".py",
   "mimetype": "text/x-python",
   "name": "python",
   "nbconvert_exporter": "python",
   "pygments_lexer": "ipython3",
   "version": "3.8.10"
  }
 },
 "nbformat": 4,
 "nbformat_minor": 5
}
